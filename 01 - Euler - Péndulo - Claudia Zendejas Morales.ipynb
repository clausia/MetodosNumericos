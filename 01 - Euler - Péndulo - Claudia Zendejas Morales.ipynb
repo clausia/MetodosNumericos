{
 "cells": [
  {
   "cell_type": "code",
   "execution_count": 3,
   "metadata": {
    "scrolled": false
   },
   "outputs": [],
   "source": [
    "from vpython import *\n",
    "\n",
    "grafica = graph(xtitle='Tiempo (s)', ytitle='Angulo (rad)')\n",
    "posicion = gcurve(color=color.red)\n",
    "\n",
    "grafica2 = graph(xtitle='Tiempo (s)', ytitle='Velocidad (rad/s)')\n",
    "posicion2 = gcurve(color=color.red)\n",
    "\n",
    "h = 0.01\n",
    "g = 9.81\n",
    "l = 0.5\n",
    "x = pi/5\n",
    "v = 0.0\n",
    "def f(x,v):\n",
    "    return(-g/l*sin(x))\n",
    "\n",
    "for t in range(1000):\n",
    "    v=v+f(x,v)*h\n",
    "    x=x+v*h;\n",
    "    posicion.plot(pos=(t*h, x))\n",
    "    posicion2.plot(pos=(x,v))\n",
    "sleep(0)"
   ]
  },
  {
   "cell_type": "code",
   "execution_count": 2,
   "metadata": {},
   "outputs": [],
   "source": [
    "from vpython import *\n",
    "\n",
    "grafica = graph(xtitle='Tiempo (s)', ytitle='Angulo (rad)')\n",
    "posicion = gcurve(color=color.yellow)\n",
    "\n",
    "grafica2 = graph(xtitle='Tiempo (s)', ytitle='Velocidad (rad/s)')\n",
    "posicion2 = gcurve(color=color.blue)\n",
    "\n",
    "h = 0.01\n",
    "g = 9.81\n",
    "l = 0.5\n",
    "x = pi/5\n",
    "v = 0.0\n",
    "def f(x,v):\n",
    "    return(-g/l*sin(x))\n",
    "\n",
    "for t in range(1000):\n",
    "    v=v+f(x,v)*h\n",
    "    x=x+v*h;\n",
    "    posicion.plot(pos=(t*h, x))\n",
    "    posicion2.plot(pos=(x,v))\n",
    "sleep(0)"
   ]
  },
  {
   "cell_type": "code",
   "execution_count": null,
   "metadata": {},
   "outputs": [],
   "source": []
  }
 ],
 "metadata": {
  "kernelspec": {
   "display_name": "Python 3",
   "language": "python",
   "name": "python3"
  },
  "language_info": {
   "codemirror_mode": {
    "name": "ipython",
    "version": 3
   },
   "file_extension": ".py",
   "mimetype": "text/x-python",
   "name": "python",
   "nbconvert_exporter": "python",
   "pygments_lexer": "ipython3",
   "version": "3.7.4"
  }
 },
 "nbformat": 4,
 "nbformat_minor": 2
}
